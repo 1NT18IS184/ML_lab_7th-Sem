{
 "cells": [
  {
   "cell_type": "code",
   "execution_count": 182,
   "metadata": {},
   "outputs": [],
   "source": [
    "from random import sample\n",
    "import numpy as np"
   ]
  },
  {
   "cell_type": "code",
   "execution_count": 183,
   "metadata": {},
   "outputs": [],
   "source": [
    "centroid1=[]\n",
    "centroid2=[]\n",
    "centroid3=[]\n",
    "points = [[2,4],[4,3],[5,2],[9,3],[6,12],[10,13],[20,5],[25,8],[21,10],[20,13],[27,9],[12,12]]\n",
    "centroid1=sample(points,1)\n",
    "centroid2=sample(points,1)\n",
    "centroid3=sample(points,1)\n",
    "c_point = [0]*len(points)"
   ]
  },
  {
   "cell_type": "code",
   "execution_count": 184,
   "metadata": {},
   "outputs": [
    {
     "data": {
      "text/plain": [
       "[[12, 12]]"
      ]
     },
     "execution_count": 184,
     "metadata": {},
     "output_type": "execute_result"
    }
   ],
   "source": [
    "centroid1"
   ]
  },
  {
   "cell_type": "code",
   "execution_count": 185,
   "metadata": {},
   "outputs": [
    {
     "data": {
      "text/plain": [
       "[[2, 4]]"
      ]
     },
     "execution_count": 185,
     "metadata": {},
     "output_type": "execute_result"
    }
   ],
   "source": [
    "centroid2"
   ]
  },
  {
   "cell_type": "code",
   "execution_count": 186,
   "metadata": {},
   "outputs": [],
   "source": [
    "def e_distance(list1,list2):\n",
    "    dist = np.sqrt((np.square(list1[0]-list2[0])+np.square(list1[1]-list2[1])))\n",
    "    return dist\n",
    "\n",
    "def point_com(list1,list2):\n",
    "    x=(list1[0]+list2[0])/2\n",
    "    y=(list1[1]+list2[1])/2\n",
    "    return [x,y]"
   ]
  },
  {
   "cell_type": "code",
   "execution_count": 187,
   "metadata": {},
   "outputs": [],
   "source": [
    "distance1 = [0]*len(points)\n",
    "distance2 = [0]*len(points)\n",
    "distance3 = [0]*len(points)\n",
    "def dist_iter(it):\n",
    "    count1=0\n",
    "    for i in points:\n",
    "        dist1 = e_distance(i,centroid1[it])\n",
    "        dist2 = e_distance(i,centroid2[it])\n",
    "        dist3 = e_distance(i,centroid2[it])\n",
    "        distance1[count1] = dist1\n",
    "        distance2[count1] = dist2\n",
    "        distance3[count1] = dist3\n",
    "        count1 = count1+1\n",
    "dist_iter(0)"
   ]
  },
  {
   "cell_type": "code",
   "execution_count": 188,
   "metadata": {},
   "outputs": [
    {
     "data": {
      "text/plain": [
       "[12.806248474865697,\n",
       " 12.041594578792296,\n",
       " 12.206555615733702,\n",
       " 9.486832980505138,\n",
       " 6.0,\n",
       " 2.23606797749979,\n",
       " 10.63014581273465,\n",
       " 13.601470508735444,\n",
       " 9.219544457292887,\n",
       " 8.06225774829855,\n",
       " 15.297058540778355,\n",
       " 0.0]"
      ]
     },
     "execution_count": 188,
     "metadata": {},
     "output_type": "execute_result"
    }
   ],
   "source": [
    "distance1"
   ]
  },
  {
   "cell_type": "code",
   "execution_count": 189,
   "metadata": {},
   "outputs": [
    {
     "data": {
      "text/plain": [
       "[0.0,\n",
       " 2.23606797749979,\n",
       " 3.605551275463989,\n",
       " 7.0710678118654755,\n",
       " 8.94427190999916,\n",
       " 12.041594578792296,\n",
       " 18.027756377319946,\n",
       " 23.345235059857504,\n",
       " 19.924858845171276,\n",
       " 20.12461179749811,\n",
       " 25.495097567963924,\n",
       " 12.806248474865697]"
      ]
     },
     "execution_count": 189,
     "metadata": {},
     "output_type": "execute_result"
    }
   ],
   "source": [
    "distance2"
   ]
  },
  {
   "cell_type": "code",
   "execution_count": 190,
   "metadata": {},
   "outputs": [],
   "source": [
    "def assign_cluster(c_point,distance1,distance2,distance3):\n",
    "    for i in range(0,len(distance1)):\n",
    "        if(distance1[i]<distance2[i]):\n",
    "            c_point[i]=1\n",
    "        else:\n",
    "            c_point[i]=2"
   ]
  },
  {
   "cell_type": "code",
   "execution_count": 191,
   "metadata": {},
   "outputs": [
    {
     "data": {
      "text/plain": [
       "[2, 2, 2, 2, 1, 1, 1, 1, 1, 1, 1, 1]"
      ]
     },
     "execution_count": 191,
     "metadata": {},
     "output_type": "execute_result"
    }
   ],
   "source": [
    "assign_cluster(c_point,distance1,distance2)\n",
    "c_point"
   ]
  },
  {
   "cell_type": "code",
   "execution_count": 192,
   "metadata": {},
   "outputs": [
    {
     "name": "stdout",
     "output_type": "stream",
     "text": [
      "Centroid1 after iteration 1 is [17.7578125, 10.9765625]\n",
      "Centroid2 after iteration 1 is [6.375, 2.625]\n",
      "Centroid1 after iteration 2 is [17.87310791015625, 11.01544189453125]\n",
      "Centroid2 after iteration 2 is [6.38671875, 7.39453125]\n",
      "Centroid1 after iteration 3 is [17.93551731109619, 11.00024127960205]\n",
      "Centroid2 after iteration 3 is [8.19354248046875, 10.27178955078125]\n",
      "Centroid1 after iteration 4 is [23.872984915971756, 10.000007539987564]\n",
      "Centroid2 after iteration 4 is [10.110887050628662, 11.158373355865479]\n",
      "Centroid1 after iteration 5 is [24.058530778624117, 9.968750235624611]\n",
      "Centroid2 after iteration 5 is [10.125866305083036, 11.165299791842699]\n",
      "Centroid1 after iteration 6 is [24.064329086832004, 9.967773444863269]\n",
      "Centroid2 after iteration 6 is [10.125983330508461, 11.165353904623771]\n",
      "Centroid1 after iteration 7 is [24.0645102839635, 9.967742920151977]\n",
      "Centroid2 after iteration 7 is [10.125984244769597, 11.165354327379873]\n",
      "Centroid1 after iteration 8 is [24.06451594637386, 9.96774196625475]\n",
      "Centroid2 after iteration 8 is [10.125984251912262, 11.165354330682655]\n",
      "Centroid1 after iteration 9 is [24.064516123324182, 9.96774193644546]\n",
      "Centroid2 after iteration 9 is [10.125984251968065, 11.165354330708459]\n",
      "Centroid1 after iteration 10 is [24.06451612885388, 9.96774193551392]\n",
      "Centroid2 after iteration 10 is [10.1259842519685, 11.16535433070866]\n",
      "Centroid1 after iteration 11 is [24.064516129026686, 9.96774193548481]\n",
      "Centroid2 after iteration 11 is [10.125984251968504, 11.165354330708661]\n",
      "Centroid1 after iteration 12 is [24.064516129032086, 9.9677419354839]\n",
      "Centroid2 after iteration 12 is [10.125984251968504, 11.165354330708661]\n",
      "Centroid1 after iteration 13 is [24.064516129032253, 9.967741935483872]\n",
      "Centroid2 after iteration 13 is [10.125984251968504, 11.165354330708661]\n",
      "Centroid1 after iteration 14 is [24.064516129032256, 9.967741935483872]\n",
      "Centroid2 after iteration 14 is [10.125984251968504, 11.165354330708661]\n",
      "Centroid1 after iteration 15 is [24.064516129032256, 9.967741935483872]\n",
      "Centroid2 after iteration 15 is [10.125984251968504, 11.165354330708661]\n",
      "Total iterations: 15\n"
     ]
    }
   ],
   "source": [
    "def cluster():\n",
    "    itr=0\n",
    "    sum1=[0,0]\n",
    "    sum2=[0,0]\n",
    "    while True:\n",
    "        count=0\n",
    "        dist_iter(itr)\n",
    "        assign_cluster(c_point,distance1,distance2)\n",
    "\n",
    "        for i in c_point:\n",
    "            if(i==1):\n",
    "                sum1 = point_com(sum1,points[count])\n",
    "            else:\n",
    "                sum2= point_com(sum2,points[count])\n",
    "            count = count+1\n",
    "    \n",
    "        itr=itr+1\n",
    "        centroid1.append(sum1)\n",
    "        centroid2.append(sum2)\n",
    "    \n",
    "        print(\"Centroid1 after iteration \"+str(itr)+\" is \"+ str(sum1))\n",
    "        print(\"Centroid2 after iteration \"+str(itr)+\" is \"+ str(sum2))\n",
    "        \n",
    "        if(centroid1[itr-1]==centroid1[itr]):\n",
    "            print(\"Total iterations: \"+str(itr))\n",
    "            return\n",
    "#print(distance1)\n",
    "#print(distance2)\n",
    "cluster()"
   ]
  },
  {
   "cell_type": "code",
   "execution_count": 193,
   "metadata": {},
   "outputs": [
    {
     "data": {
      "text/plain": [
       "[2, 2, 2, 2, 2, 2, 1, 1, 1, 1, 1, 2]"
      ]
     },
     "execution_count": 193,
     "metadata": {},
     "output_type": "execute_result"
    }
   ],
   "source": [
    "c_point"
   ]
  },
  {
   "cell_type": "code",
   "execution_count": null,
   "metadata": {},
   "outputs": [],
   "source": []
  }
 ],
 "metadata": {
  "kernelspec": {
   "display_name": "Python 3",
   "language": "python",
   "name": "python3"
  },
  "language_info": {
   "codemirror_mode": {
    "name": "ipython",
    "version": 3
   },
   "file_extension": ".py",
   "mimetype": "text/x-python",
   "name": "python",
   "nbconvert_exporter": "python",
   "pygments_lexer": "ipython3",
   "version": "3.7.4"
  }
 },
 "nbformat": 4,
 "nbformat_minor": 2
}
