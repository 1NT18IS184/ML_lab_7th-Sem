{
 "cells": [
  {
   "cell_type": "code",
   "execution_count": 23,
   "metadata": {},
   "outputs": [],
   "source": [
    "my_list = [10,20,30]"
   ]
  },
  {
   "cell_type": "code",
   "execution_count": 24,
   "metadata": {},
   "outputs": [],
   "source": [
    "def std_dev(list1):\n",
    "    s=0\n",
    "    dev=0\n",
    "    for i in list1:\n",
    "        s=s+i\n",
    "    m=s/len(list1)\n",
    "    print(\"Mean is \"+ str(m))\n",
    "    for i in list1:\n",
    "        dev=dev+(abs(m-i))**2\n",
    "    dev=dev/len(list1)\n",
    "    print(\"Standard deviation is \"+ str(dev**(1/2)))\n",
    "    print(\"Variance is \"+ str(dev))"
   ]
  },
  {
   "cell_type": "code",
   "execution_count": 25,
   "metadata": {},
   "outputs": [
    {
     "name": "stdout",
     "output_type": "stream",
     "text": [
      "Mean is 20.0\n",
      "Standard deviation is 8.16496580927726\n",
      "Variance is 66.66666666666667\n"
     ]
    }
   ],
   "source": [
    "std_dev(my_list)"
   ]
  },
  {
   "cell_type": "code",
   "execution_count": null,
   "metadata": {},
   "outputs": [],
   "source": []
  }
 ],
 "metadata": {
  "kernelspec": {
   "display_name": "Python 3",
   "language": "python",
   "name": "python3"
  },
  "language_info": {
   "codemirror_mode": {
    "name": "ipython",
    "version": 3
   },
   "file_extension": ".py",
   "mimetype": "text/x-python",
   "name": "python",
   "nbconvert_exporter": "python",
   "pygments_lexer": "ipython3",
   "version": "3.7.4"
  }
 },
 "nbformat": 4,
 "nbformat_minor": 2
}
